{
 "cells": [
  {
   "cell_type": "markdown",
   "metadata": {},
   "source": [
    "# Calculo dos Resultados dos Clientes Conta Única"
   ]
  },
  {
   "cell_type": "markdown",
   "metadata": {},
   "source": [
    "## 0 - Setup  "
   ]
  },
  {
   "cell_type": "code",
   "execution_count": 1,
   "metadata": {},
   "outputs": [
    {
     "name": "stderr",
     "output_type": "stream",
     "text": [
      "ERROR: Ignored the following versions that require a different python version: 2.10.0 Requires-Python >=3.6, <3.10; 2.11.0 Requires-Python >=3.6, <3.10; 2.12.0 Requires-Python >=3.6, <3.10; 2.13.0 Requires-Python >=3.6, <3.10; 2.13.1 Requires-Python >=3.6, <3.10; 2.14.0 Requires-Python >=3.6, <3.10; 2.15.0 Requires-Python >=3.6, <3.10; 2.16.0 Requires-Python >=3.6, <3.10; 2.16.1 Requires-Python >=3.6, <3.10; 2.17.0 Requires-Python >=3.6, <3.10; 2.18.0 Requires-Python >=3.6, <3.10; 2.19.0 Requires-Python >=3.6, <3.10; 2.20.0 Requires-Python >=3.6, <3.10; 2.21.0 Requires-Python >=3.6, <3.10; 2.22.0 Requires-Python >=3.6, <3.10; 2.22.1 Requires-Python >=3.6, <3.10; 2.23.0 Requires-Python >=3.6, <3.10; 2.23.1 Requires-Python >=3.6, <3.10; 2.23.2 Requires-Python >=3.6, <3.10; 2.23.3 Requires-Python >=3.6, <3.10; 2.24.0 Requires-Python >=3.6, <3.10; 2.24.1 Requires-Python >=3.6, <3.10; 2.25.0 Requires-Python >=3.6, <3.10; 2.25.1 Requires-Python >=3.6, <3.10; 2.25.2 Requires-Python >=3.6, <3.10; 2.26.0 Requires-Python >=3.6, <3.10; 2.27.0 Requires-Python >=3.6, <3.10; 2.27.1 Requires-Python >=3.6, <3.10; 2.28.0 Requires-Python >=3.6, <3.10; 2.28.1 Requires-Python >=3.6, <3.10; 2.29.0 Requires-Python >=3.6, <3.10; 2.30.0 Requires-Python >=3.6, <3.11; 2.30.1 Requires-Python >=3.6, <3.11; 2.31.0 Requires-Python >=3.6, <3.11; 2.32.0 Requires-Python >=3.6, <3.11; 2.33.0 Requires-Python >=3.6, <3.11; 2.34.0 Requires-Python >=3.6, <3.11; 2.34.1 Requires-Python >=3.6, <3.11; 2.34.2 Requires-Python >=3.6, <3.11; 2.34.3 Requires-Python >=3.6, <3.11; 2.34.4 Requires-Python >=3.6, <3.11; 2.6.2 Requires-Python >=3.6, <3.9; 2.7.0 Requires-Python >=3.6, <3.10; 2.8.0 Requires-Python >=3.6, <3.10; 2.9.0 Requires-Python >=3.6, <3.10; 3.0.0 Requires-Python >=3.6, <3.11; 3.0.0b1 Requires-Python >=3.6, <3.11; 3.0.1 Requires-Python >=3.6, <3.11; 3.1.0 Requires-Python >=3.6, <3.11; 3.2.0 Requires-Python >=3.6, <3.11; 3.3.0 Requires-Python >=3.7, <3.11; 3.3.1 Requires-Python >=3.7, <3.11; 3.3.2 Requires-Python >=3.7, <3.11; 3.3.3 Requires-Python >=3.7, <3.11; 3.3.5 Requires-Python >=3.7, <3.11; 3.3.6 Requires-Python >=3.7, <3.11\n",
      "ERROR: Could not find a version that satisfies the requirement google-cloud-bigquery==2.34.3 (from versions: 0.20.0, 0.21.0, 0.22.0, 0.22.1, 0.23.0, 0.24.0, 0.25.0, 0.26.0, 0.27.0, 0.28.0, 0.29.0, 0.30.0, 0.31.0, 0.32.0, 1.0.0, 1.1.0, 1.2.0, 1.3.0, 1.4.0, 1.5.0, 1.5.1, 1.5.2, 1.6.0, 1.6.1, 1.6.2, 1.7.0, 1.7.2, 1.8.0, 1.8.1, 1.8.2, 1.9.0, 1.9.1, 1.10.0, 1.10.1, 1.11.1, 1.11.2, 1.11.3, 1.11.4, 1.12.0, 1.12.1, 1.12.2, 1.13.0, 1.13.1, 1.14.0, 1.14.1, 1.15.0, 1.15.1, 1.16.0, 1.16.1, 1.17.0, 1.17.1, 1.18.0, 1.18.1, 1.19.0, 1.19.1, 1.20.0, 1.21.0, 1.22.0, 1.23.0, 1.23.1, 1.24.0, 1.25.0, 1.26.0, 1.26.1, 1.27.2, 1.28.0, 1.28.1, 1.28.2, 1.28.3, 2.0.0, 2.1.0, 2.2.0, 2.3.1, 2.4.0, 2.5.0, 2.6.0, 2.6.1, 3.4.0, 3.4.1, 3.4.2, 3.5.0, 3.6.0, 3.7.0, 3.8.0, 3.9.0, 3.10.0, 3.11.0, 3.11.1, 3.11.2, 3.11.3, 3.11.4, 3.12.0, 3.13.0, 3.14.0rc0, 3.14.0, 3.14.1)\n",
      "ERROR: No matching distribution found for google-cloud-bigquery==2.34.3\n"
     ]
    },
    {
     "name": "stdout",
     "output_type": "stream",
     "text": [
      "Note: you may need to restart the kernel to use updated packages.\n"
     ]
    },
    {
     "name": "stderr",
     "output_type": "stream",
     "text": [
      "c:\\Users\\DELL\\anaconda3\\Lib\\site-packages\\google\\auth\\_default.py:78: UserWarning: Your application has authenticated using end user credentials from Google Cloud SDK without a quota project. You might receive a \"quota exceeded\" or \"API not enabled\" error. See the following page for troubleshooting: https://cloud.google.com/docs/authentication/adc-troubleshooting/user-creds. \n",
      "  warnings.warn(_CLOUD_SDK_CREDENTIALS_WARNING)\n"
     ]
    },
    {
     "name": "stdout",
     "output_type": "stream",
     "text": [
      "Requirement already satisfied: plotly==5.17.0 in c:\\users\\dell\\anaconda3\\lib\\site-packages (5.17.0)\n",
      "Requirement already satisfied: tenacity>=6.2.0 in c:\\users\\dell\\anaconda3\\lib\\site-packages (from plotly==5.17.0) (8.2.2)\n",
      "Requirement already satisfied: packaging in c:\\users\\dell\\anaconda3\\lib\\site-packages (from plotly==5.17.0) (23.0)\n",
      "Note: you may need to restart the kernel to use updated packages.\n"
     ]
    }
   ],
   "source": [
    "import pandas as pd\n",
    "pd.set_option('display.float_format', lambda x: f'{x:.3f}')\n",
    "pd.set_option('display.max_colwidth', 100)\n",
    "pd.set_option('display.max_rows',50)\n",
    "\n",
    "\n",
    "import numpy as np \n",
    "from matplotlib import pyplot as plt\n",
    "\n",
    "%pip install -r requirements.txt\n",
    "from google.cloud import bigquery\n",
    "data_origin = \"`lemoncake-prod.playground.dados_jaime_analise_conta_unica`\"\n",
    "project_id = 'lemoncake-prod'\n",
    "client = bigquery.Client(project = project_id)\n",
    "\n",
    "%pip install plotly==5.17.0\n",
    "import plotly.graph_objects as go\n",
    "import plotly.express as px\n",
    "\n",
    "from datetime import datetime, timedelta"
   ]
  },
  {
   "cell_type": "code",
   "execution_count": 71,
   "metadata": {},
   "outputs": [],
   "source": [
    "data_inicio_teste = '2023-11-08'\n",
    "current_date = datetime.now().date()"
   ]
  },
  {
   "cell_type": "markdown",
   "metadata": {},
   "source": [
    "## 1 - Lendo os dados "
   ]
  },
  {
   "cell_type": "code",
   "execution_count": 72,
   "metadata": {},
   "outputs": [],
   "source": [
    "clientes_teste_filename = 'clientes_teste.csv'\n",
    "clientes_gcontrole_filename = 'clientes_grupo_controle.csv'\n",
    "folder_name = 'clientes'\n",
    "\n",
    "teste_path = \"\\\\\".join([folder_name,clientes_teste_filename])\n",
    "gcontrole_path = \"\\\\\".join([folder_name,clientes_gcontrole_filename])\n",
    "\n",
    "clientes_teste_df = pd.read_csv(teste_path)\n",
    "n_clientes = clientes_teste_df.shape[0]\n",
    "\n",
    "clientes_gcontrole_raw = pd.read_csv(teste_path)\n",
    "clientes_gcontrole_df = clientes_gcontrole_raw.sample(n_clientes, random_state=42)"
   ]
  },
  {
   "cell_type": "code",
   "execution_count": 73,
   "metadata": {},
   "outputs": [
    {
     "data": {
      "text/plain": [
       "(5580, 11)"
      ]
     },
     "execution_count": 73,
     "metadata": {},
     "output_type": "execute_result"
    }
   ],
   "source": [
    "query = f'''SELECT\n",
    "            *\n",
    "         FROM {data_origin}'''\n",
    "\n",
    "data_raw = client.query(query).to_dataframe()\n",
    "data_raw.shape"
   ]
  },
  {
   "cell_type": "code",
   "execution_count": 74,
   "metadata": {},
   "outputs": [],
   "source": [
    "data_raw['cobranca_vencida'] = data_raw['data_vencimento'] < current_date\n"
   ]
  },
  {
   "cell_type": "code",
   "execution_count": 75,
   "metadata": {},
   "outputs": [],
   "source": [
    "def treat_diff(x):\n",
    "    if x is None:\n",
    "        result = x\n",
    "    else:\n",
    "        result = int(x)\n",
    "    return result"
   ]
  },
  {
   "cell_type": "code",
   "execution_count": 76,
   "metadata": {},
   "outputs": [],
   "source": [
    "data_raw['diff_pagamento_vencimento'] = data_raw['diff_pagamento_vencimento'].apply(treat_diff)\n",
    "data_raw['data_vencimento'] = data_raw['data_vencimento'].apply(pd.to_datetime)"
   ]
  },
  {
   "cell_type": "markdown",
   "metadata": {},
   "source": [
    "## 2 - Calculo dos resultados"
   ]
  },
  {
   "cell_type": "markdown",
   "metadata": {},
   "source": [
    "### 2.1 - Taxa de pagamentos em dia da conta única "
   ]
  },
  {
   "cell_type": "code",
   "execution_count": 77,
   "metadata": {},
   "outputs": [],
   "source": [
    "def check_pagamento_em_dia(x): \n",
    "    if np.isnan(x):\n",
    "        result = False\n",
    "    else:\n",
    "        if x <= 0:\n",
    "            result = True\n",
    "        else:\n",
    "            result = False\n",
    "    return result "
   ]
  },
  {
   "cell_type": "code",
   "execution_count": 78,
   "metadata": {},
   "outputs": [],
   "source": [
    "def get_taxa_pgt_em_dia(df, janela_inicio, janela_fim, tipo):\n",
    "    cond0 = df['data_envio'] > janela_inicio\n",
    "    cond1 = df['data_envio'] < janela_fim \n",
    "    cond2 = df['data_vencimento'] < janela_fim\n",
    "    cond3 = df['tipo'] == tipo \n",
    "\n",
    "    cond = (((cond0 & cond1) & cond2)) & cond3 \n",
    "    cobrancas_de_interesse = df.loc[cond,:].copy()\n",
    "    cobrancas_de_interesse['pagamento_em_dia'] = cobrancas_de_interesse['diff_pagamento_vencimento'].apply(check_pagamento_em_dia)\n",
    "\n",
    "    grouped = cobrancas_de_interesse[['pagamento_em_dia']].groupby(by='pagamento_em_dia')\n",
    "    counts = grouped.size()\n",
    "    \n",
    "    if cobrancas_de_interesse.shape[0] == 0:\n",
    "        taxa = 0\n",
    "    else:\n",
    "        taxa = counts[True]/counts.sum()\n",
    "    return taxa\n"
   ]
  },
  {
   "cell_type": "code",
   "execution_count": 79,
   "metadata": {},
   "outputs": [],
   "source": [
    "def get_qt_pgt_em_dia(df, janela_inicio, janela_fim, tipo):\n",
    "    cond0 = df['data_envio'] > janela_inicio\n",
    "    cond1 = df['data_envio'] < janela_fim \n",
    "    cond2 = df['data_vencimento'] < janela_fim\n",
    "    cond3 = df['tipo'] == tipo \n",
    "\n",
    "    cond = (((cond0 & cond1) & cond2)) & cond3 \n",
    "    cobrancas_de_interesse = df.loc[cond,:].copy()\n",
    "    cobrancas_de_interesse['pagamento_em_dia'] = cobrancas_de_interesse['diff_pagamento_vencimento'].apply(check_pagamento_em_dia)\n",
    "\n",
    "    grouped = cobrancas_de_interesse[['pagamento_em_dia']].groupby(by='pagamento_em_dia')\n",
    "    counts = grouped.size()\n",
    "    \n",
    "    if cobrancas_de_interesse.shape[0] == 0:\n",
    "        qt = 0\n",
    "    else:\n",
    "        qt = counts[True]\n",
    "    return qt, counts.sum(), qt/counts.sum()"
   ]
  },
  {
   "cell_type": "code",
   "execution_count": 80,
   "metadata": {},
   "outputs": [
    {
     "name": "stderr",
     "output_type": "stream",
     "text": [
      "C:\\Users\\DELL\\AppData\\Local\\Temp\\ipykernel_4352\\1531623989.py:18: RuntimeWarning:\n",
      "\n",
      "invalid value encountered in scalar divide\n",
      "\n",
      "C:\\Users\\DELL\\AppData\\Local\\Temp\\ipykernel_4352\\1531623989.py:18: RuntimeWarning:\n",
      "\n",
      "invalid value encountered in scalar divide\n",
      "\n",
      "C:\\Users\\DELL\\AppData\\Local\\Temp\\ipykernel_4352\\1531623989.py:18: RuntimeWarning:\n",
      "\n",
      "invalid value encountered in scalar divide\n",
      "\n",
      "C:\\Users\\DELL\\AppData\\Local\\Temp\\ipykernel_4352\\1531623989.py:18: RuntimeWarning:\n",
      "\n",
      "invalid value encountered in scalar divide\n",
      "\n",
      "C:\\Users\\DELL\\AppData\\Local\\Temp\\ipykernel_4352\\1531623989.py:18: RuntimeWarning:\n",
      "\n",
      "invalid value encountered in scalar divide\n",
      "\n",
      "C:\\Users\\DELL\\AppData\\Local\\Temp\\ipykernel_4352\\1531623989.py:18: RuntimeWarning:\n",
      "\n",
      "invalid value encountered in scalar divide\n",
      "\n",
      "C:\\Users\\DELL\\AppData\\Local\\Temp\\ipykernel_4352\\1531623989.py:18: RuntimeWarning:\n",
      "\n",
      "invalid value encountered in scalar divide\n",
      "\n",
      "C:\\Users\\DELL\\AppData\\Local\\Temp\\ipykernel_4352\\1531623989.py:18: RuntimeWarning:\n",
      "\n",
      "invalid value encountered in scalar divide\n",
      "\n",
      "C:\\Users\\DELL\\AppData\\Local\\Temp\\ipykernel_4352\\1531623989.py:18: RuntimeWarning:\n",
      "\n",
      "invalid value encountered in scalar divide\n",
      "\n",
      "C:\\Users\\DELL\\AppData\\Local\\Temp\\ipykernel_4352\\1531623989.py:18: RuntimeWarning:\n",
      "\n",
      "invalid value encountered in scalar divide\n",
      "\n",
      "C:\\Users\\DELL\\AppData\\Local\\Temp\\ipykernel_4352\\1531623989.py:18: RuntimeWarning:\n",
      "\n",
      "invalid value encountered in scalar divide\n",
      "\n",
      "C:\\Users\\DELL\\AppData\\Local\\Temp\\ipykernel_4352\\1531623989.py:18: RuntimeWarning:\n",
      "\n",
      "invalid value encountered in scalar divide\n",
      "\n",
      "C:\\Users\\DELL\\AppData\\Local\\Temp\\ipykernel_4352\\1531623989.py:18: RuntimeWarning:\n",
      "\n",
      "invalid value encountered in scalar divide\n",
      "\n",
      "C:\\Users\\DELL\\AppData\\Local\\Temp\\ipykernel_4352\\1531623989.py:18: RuntimeWarning:\n",
      "\n",
      "invalid value encountered in scalar divide\n",
      "\n",
      "C:\\Users\\DELL\\AppData\\Local\\Temp\\ipykernel_4352\\1531623989.py:18: RuntimeWarning:\n",
      "\n",
      "invalid value encountered in scalar divide\n",
      "\n",
      "C:\\Users\\DELL\\AppData\\Local\\Temp\\ipykernel_4352\\1531623989.py:18: RuntimeWarning:\n",
      "\n",
      "invalid value encountered in scalar divide\n",
      "\n",
      "C:\\Users\\DELL\\AppData\\Local\\Temp\\ipykernel_4352\\1531623989.py:18: RuntimeWarning:\n",
      "\n",
      "invalid value encountered in scalar divide\n",
      "\n",
      "C:\\Users\\DELL\\AppData\\Local\\Temp\\ipykernel_4352\\1531623989.py:18: RuntimeWarning:\n",
      "\n",
      "invalid value encountered in scalar divide\n",
      "\n",
      "C:\\Users\\DELL\\AppData\\Local\\Temp\\ipykernel_4352\\1531623989.py:18: RuntimeWarning:\n",
      "\n",
      "invalid value encountered in scalar divide\n",
      "\n",
      "C:\\Users\\DELL\\AppData\\Local\\Temp\\ipykernel_4352\\1531623989.py:18: RuntimeWarning:\n",
      "\n",
      "invalid value encountered in scalar divide\n",
      "\n",
      "C:\\Users\\DELL\\AppData\\Local\\Temp\\ipykernel_4352\\1531623989.py:18: RuntimeWarning:\n",
      "\n",
      "invalid value encountered in scalar divide\n",
      "\n",
      "C:\\Users\\DELL\\AppData\\Local\\Temp\\ipykernel_4352\\1531623989.py:18: RuntimeWarning:\n",
      "\n",
      "invalid value encountered in scalar divide\n",
      "\n",
      "C:\\Users\\DELL\\AppData\\Local\\Temp\\ipykernel_4352\\1531623989.py:18: RuntimeWarning:\n",
      "\n",
      "invalid value encountered in scalar divide\n",
      "\n",
      "C:\\Users\\DELL\\AppData\\Local\\Temp\\ipykernel_4352\\1531623989.py:18: RuntimeWarning:\n",
      "\n",
      "invalid value encountered in scalar divide\n",
      "\n",
      "C:\\Users\\DELL\\AppData\\Local\\Temp\\ipykernel_4352\\1531623989.py:18: RuntimeWarning:\n",
      "\n",
      "invalid value encountered in scalar divide\n",
      "\n"
     ]
    }
   ],
   "source": [
    "time_range = np.arange(np.datetime64(data_inicio_teste), \n",
    "                       datetime.strftime(current_date,'%Y-%m-%d'),\n",
    "                       np.timedelta64(1,'D'))\n",
    "\n",
    "qt_teste = []\n",
    "qt_vencidas_teste =[]\n",
    "txs_teste = []\n",
    "for date in time_range:\n",
    "    qt_pgt_em_dia,qt_vencidas,tx = get_qt_pgt_em_dia(df=data_raw,\n",
    "                                        janela_inicio = data_inicio_teste,\n",
    "                                        janela_fim = str(date),\n",
    "                                        tipo = 'teste')\n",
    "    qt_teste.append(qt_pgt_em_dia)\n",
    "    qt_vencidas_teste.append(qt_vencidas)\n",
    "    txs_teste.append(tx)\n",
    "    \n",
    "qt_controle = []\n",
    "qt_vencidas_controle =[]\n",
    "txs_controle = []\n",
    "for date in time_range:\n",
    "    qt_pgt_em_dia,qt_vencidas,tx = get_qt_pgt_em_dia(df=data_raw,\n",
    "                                        janela_inicio = data_inicio_teste,\n",
    "                                        janela_fim = str(date),\n",
    "                                        tipo = 'controle')\n",
    "    qt_controle.append(qt_pgt_em_dia)\n",
    "    qt_vencidas_controle.append(qt_vencidas)\n",
    "    txs_controle.append(tx)\n",
    "\n",
    "qt_pgt_dia_df = pd.DataFrame({'data':time_range,\n",
    "                              'qt_pgt_em_dia_teste': qt_teste,\n",
    "                              'qt_vencidas_teste': qt_vencidas_teste,\n",
    "                              'taxa_teste': txs_teste,\n",
    "                              'qt_pgt_em_dia_controle': qt_controle,\n",
    "                              'qte_vencidas_controle': qt_vencidas_controle,\n",
    "                              'taxa_controle': txs_controle})\n"
   ]
  },
  {
   "cell_type": "code",
   "execution_count": 81,
   "metadata": {},
   "outputs": [
    {
     "data": {
      "application/vnd.plotly.v1+json": {
       "config": {
        "plotlyServerURL": "https://plot.ly"
       },
       "data": [
        {
         "hovertemplate": "variable=taxa_teste<br>data=%{x}<br>value=%{y}<extra></extra>",
         "legendgroup": "taxa_teste",
         "line": {
          "color": "#636efa",
          "dash": "solid"
         },
         "marker": {
          "symbol": "circle"
         },
         "mode": "lines",
         "name": "taxa_teste",
         "orientation": "v",
         "showlegend": true,
         "type": "scatter",
         "x": [
          "2023-11-08T00:00:00",
          "2023-11-09T00:00:00",
          "2023-11-10T00:00:00",
          "2023-11-11T00:00:00",
          "2023-11-12T00:00:00",
          "2023-11-13T00:00:00",
          "2023-11-14T00:00:00",
          "2023-11-15T00:00:00",
          "2023-11-16T00:00:00",
          "2023-11-17T00:00:00",
          "2023-11-18T00:00:00",
          "2023-11-19T00:00:00",
          "2023-11-20T00:00:00",
          "2023-11-21T00:00:00",
          "2023-11-22T00:00:00",
          "2023-11-23T00:00:00",
          "2023-11-24T00:00:00",
          "2023-11-25T00:00:00",
          "2023-11-26T00:00:00",
          "2023-11-27T00:00:00",
          "2023-11-28T00:00:00",
          "2023-11-29T00:00:00",
          "2023-11-30T00:00:00",
          "2023-12-01T00:00:00",
          "2023-12-02T00:00:00",
          "2023-12-03T00:00:00",
          "2023-12-04T00:00:00",
          "2023-12-05T00:00:00",
          "2023-12-06T00:00:00",
          "2023-12-07T00:00:00",
          "2023-12-08T00:00:00",
          "2023-12-09T00:00:00",
          "2023-12-10T00:00:00",
          "2023-12-11T00:00:00",
          "2023-12-12T00:00:00",
          "2023-12-13T00:00:00",
          "2023-12-14T00:00:00",
          "2023-12-15T00:00:00",
          "2023-12-16T00:00:00",
          "2023-12-17T00:00:00",
          "2023-12-18T00:00:00",
          "2023-12-19T00:00:00",
          "2023-12-20T00:00:00",
          "2023-12-21T00:00:00",
          "2023-12-22T00:00:00",
          "2023-12-23T00:00:00",
          "2023-12-24T00:00:00",
          "2023-12-25T00:00:00",
          "2023-12-26T00:00:00",
          "2023-12-27T00:00:00",
          "2023-12-28T00:00:00",
          "2023-12-29T00:00:00",
          "2023-12-30T00:00:00",
          "2023-12-31T00:00:00",
          "2024-01-01T00:00:00",
          "2024-01-02T00:00:00",
          "2024-01-03T00:00:00",
          "2024-01-04T00:00:00",
          "2024-01-05T00:00:00",
          "2024-01-06T00:00:00",
          "2024-01-07T00:00:00"
         ],
         "xaxis": "x",
         "y": [
          null,
          null,
          null,
          null,
          null,
          null,
          null,
          null,
          null,
          null,
          0.25,
          0.25,
          0.25,
          0.23076923076923078,
          0.23076923076923078,
          0.25,
          0.25,
          0.30303030303030304,
          0.30303030303030304,
          0.30303030303030304,
          0.3023255813953488,
          0.2978723404255319,
          0.29411764705882354,
          0.3,
          0.2916666666666667,
          0.2916666666666667,
          0.2916666666666667,
          0.28378378378378377,
          0.26582278481012656,
          0.2962962962962963,
          0.29357798165137616,
          0.2966101694915254,
          0.2966101694915254,
          0.2966101694915254,
          0.2966101694915254,
          0.3007518796992481,
          0.3014705882352941,
          0.3014705882352941,
          0.2894736842105263,
          0.2894736842105263,
          0.2894736842105263,
          0.2875816993464052,
          0.2875816993464052,
          0.28662420382165604,
          0.2848101265822785,
          0.27647058823529413,
          0.27647058823529413,
          0.27647058823529413,
          0.27647058823529413,
          0.27647058823529413,
          0.2677595628415301,
          0.2694300518134715,
          0.24423963133640553,
          0.24423963133640553,
          0.24423963133640553,
          0.24423963133640553,
          0.24311926605504589,
          0.25,
          0.252212389380531,
          0.2744360902255639,
          0.2744360902255639
         ],
         "yaxis": "y"
        },
        {
         "hovertemplate": "variable=taxa_controle<br>data=%{x}<br>value=%{y}<extra></extra>",
         "legendgroup": "taxa_controle",
         "line": {
          "color": "#EF553B",
          "dash": "solid"
         },
         "marker": {
          "symbol": "circle"
         },
         "mode": "lines",
         "name": "taxa_controle",
         "orientation": "v",
         "showlegend": true,
         "type": "scatter",
         "x": [
          "2023-11-08T00:00:00",
          "2023-11-09T00:00:00",
          "2023-11-10T00:00:00",
          "2023-11-11T00:00:00",
          "2023-11-12T00:00:00",
          "2023-11-13T00:00:00",
          "2023-11-14T00:00:00",
          "2023-11-15T00:00:00",
          "2023-11-16T00:00:00",
          "2023-11-17T00:00:00",
          "2023-11-18T00:00:00",
          "2023-11-19T00:00:00",
          "2023-11-20T00:00:00",
          "2023-11-21T00:00:00",
          "2023-11-22T00:00:00",
          "2023-11-23T00:00:00",
          "2023-11-24T00:00:00",
          "2023-11-25T00:00:00",
          "2023-11-26T00:00:00",
          "2023-11-27T00:00:00",
          "2023-11-28T00:00:00",
          "2023-11-29T00:00:00",
          "2023-11-30T00:00:00",
          "2023-12-01T00:00:00",
          "2023-12-02T00:00:00",
          "2023-12-03T00:00:00",
          "2023-12-04T00:00:00",
          "2023-12-05T00:00:00",
          "2023-12-06T00:00:00",
          "2023-12-07T00:00:00",
          "2023-12-08T00:00:00",
          "2023-12-09T00:00:00",
          "2023-12-10T00:00:00",
          "2023-12-11T00:00:00",
          "2023-12-12T00:00:00",
          "2023-12-13T00:00:00",
          "2023-12-14T00:00:00",
          "2023-12-15T00:00:00",
          "2023-12-16T00:00:00",
          "2023-12-17T00:00:00",
          "2023-12-18T00:00:00",
          "2023-12-19T00:00:00",
          "2023-12-20T00:00:00",
          "2023-12-21T00:00:00",
          "2023-12-22T00:00:00",
          "2023-12-23T00:00:00",
          "2023-12-24T00:00:00",
          "2023-12-25T00:00:00",
          "2023-12-26T00:00:00",
          "2023-12-27T00:00:00",
          "2023-12-28T00:00:00",
          "2023-12-29T00:00:00",
          "2023-12-30T00:00:00",
          "2023-12-31T00:00:00",
          "2024-01-01T00:00:00",
          "2024-01-02T00:00:00",
          "2024-01-03T00:00:00",
          "2024-01-04T00:00:00",
          "2024-01-05T00:00:00",
          "2024-01-06T00:00:00",
          "2024-01-07T00:00:00"
         ],
         "xaxis": "x",
         "y": [
          null,
          null,
          null,
          null,
          null,
          null,
          null,
          null,
          null,
          null,
          null,
          null,
          null,
          null,
          null,
          0.6666666666666666,
          0.5555555555555556,
          0.5,
          0.5833333333333334,
          0.5833333333333334,
          0.43478260869565216,
          0.43478260869565216,
          0.43478260869565216,
          0.43478260869565216,
          0.42424242424242425,
          0.41025641025641024,
          0.37777777777777777,
          0.39215686274509803,
          0.3793103448275862,
          0.34782608695652173,
          0.34285714285714286,
          0.3561643835616438,
          0.34615384615384615,
          0.32926829268292684,
          0.32710280373831774,
          0.32710280373831774,
          0.32727272727272727,
          0.33620689655172414,
          0.33620689655172414,
          0.33620689655172414,
          0.34959349593495936,
          0.3384615384615385,
          0.3384615384615385,
          0.33587786259541985,
          0.33587786259541985,
          0.32432432432432434,
          0.3181818181818182,
          0.3181818181818182,
          0.3181818181818182,
          0.32051282051282054,
          0.3273809523809524,
          0.3333333333333333,
          0.3333333333333333,
          0.3333333333333333,
          0.3333333333333333,
          0.33519553072625696,
          0.33152173913043476,
          0.328125,
          0.33668341708542715,
          0.33495145631067963,
          0.3150684931506849
         ],
         "yaxis": "y"
        }
       ],
       "layout": {
        "legend": {
         "title": {
          "text": "variable"
         },
         "tracegroupgap": 0
        },
        "margin": {
         "t": 60
        },
        "template": {
         "data": {
          "bar": [
           {
            "error_x": {
             "color": "#2a3f5f"
            },
            "error_y": {
             "color": "#2a3f5f"
            },
            "marker": {
             "line": {
              "color": "#E5ECF6",
              "width": 0.5
             },
             "pattern": {
              "fillmode": "overlay",
              "size": 10,
              "solidity": 0.2
             }
            },
            "type": "bar"
           }
          ],
          "barpolar": [
           {
            "marker": {
             "line": {
              "color": "#E5ECF6",
              "width": 0.5
             },
             "pattern": {
              "fillmode": "overlay",
              "size": 10,
              "solidity": 0.2
             }
            },
            "type": "barpolar"
           }
          ],
          "carpet": [
           {
            "aaxis": {
             "endlinecolor": "#2a3f5f",
             "gridcolor": "white",
             "linecolor": "white",
             "minorgridcolor": "white",
             "startlinecolor": "#2a3f5f"
            },
            "baxis": {
             "endlinecolor": "#2a3f5f",
             "gridcolor": "white",
             "linecolor": "white",
             "minorgridcolor": "white",
             "startlinecolor": "#2a3f5f"
            },
            "type": "carpet"
           }
          ],
          "choropleth": [
           {
            "colorbar": {
             "outlinewidth": 0,
             "ticks": ""
            },
            "type": "choropleth"
           }
          ],
          "contour": [
           {
            "colorbar": {
             "outlinewidth": 0,
             "ticks": ""
            },
            "colorscale": [
             [
              0,
              "#0d0887"
             ],
             [
              0.1111111111111111,
              "#46039f"
             ],
             [
              0.2222222222222222,
              "#7201a8"
             ],
             [
              0.3333333333333333,
              "#9c179e"
             ],
             [
              0.4444444444444444,
              "#bd3786"
             ],
             [
              0.5555555555555556,
              "#d8576b"
             ],
             [
              0.6666666666666666,
              "#ed7953"
             ],
             [
              0.7777777777777778,
              "#fb9f3a"
             ],
             [
              0.8888888888888888,
              "#fdca26"
             ],
             [
              1,
              "#f0f921"
             ]
            ],
            "type": "contour"
           }
          ],
          "contourcarpet": [
           {
            "colorbar": {
             "outlinewidth": 0,
             "ticks": ""
            },
            "type": "contourcarpet"
           }
          ],
          "heatmap": [
           {
            "colorbar": {
             "outlinewidth": 0,
             "ticks": ""
            },
            "colorscale": [
             [
              0,
              "#0d0887"
             ],
             [
              0.1111111111111111,
              "#46039f"
             ],
             [
              0.2222222222222222,
              "#7201a8"
             ],
             [
              0.3333333333333333,
              "#9c179e"
             ],
             [
              0.4444444444444444,
              "#bd3786"
             ],
             [
              0.5555555555555556,
              "#d8576b"
             ],
             [
              0.6666666666666666,
              "#ed7953"
             ],
             [
              0.7777777777777778,
              "#fb9f3a"
             ],
             [
              0.8888888888888888,
              "#fdca26"
             ],
             [
              1,
              "#f0f921"
             ]
            ],
            "type": "heatmap"
           }
          ],
          "heatmapgl": [
           {
            "colorbar": {
             "outlinewidth": 0,
             "ticks": ""
            },
            "colorscale": [
             [
              0,
              "#0d0887"
             ],
             [
              0.1111111111111111,
              "#46039f"
             ],
             [
              0.2222222222222222,
              "#7201a8"
             ],
             [
              0.3333333333333333,
              "#9c179e"
             ],
             [
              0.4444444444444444,
              "#bd3786"
             ],
             [
              0.5555555555555556,
              "#d8576b"
             ],
             [
              0.6666666666666666,
              "#ed7953"
             ],
             [
              0.7777777777777778,
              "#fb9f3a"
             ],
             [
              0.8888888888888888,
              "#fdca26"
             ],
             [
              1,
              "#f0f921"
             ]
            ],
            "type": "heatmapgl"
           }
          ],
          "histogram": [
           {
            "marker": {
             "pattern": {
              "fillmode": "overlay",
              "size": 10,
              "solidity": 0.2
             }
            },
            "type": "histogram"
           }
          ],
          "histogram2d": [
           {
            "colorbar": {
             "outlinewidth": 0,
             "ticks": ""
            },
            "colorscale": [
             [
              0,
              "#0d0887"
             ],
             [
              0.1111111111111111,
              "#46039f"
             ],
             [
              0.2222222222222222,
              "#7201a8"
             ],
             [
              0.3333333333333333,
              "#9c179e"
             ],
             [
              0.4444444444444444,
              "#bd3786"
             ],
             [
              0.5555555555555556,
              "#d8576b"
             ],
             [
              0.6666666666666666,
              "#ed7953"
             ],
             [
              0.7777777777777778,
              "#fb9f3a"
             ],
             [
              0.8888888888888888,
              "#fdca26"
             ],
             [
              1,
              "#f0f921"
             ]
            ],
            "type": "histogram2d"
           }
          ],
          "histogram2dcontour": [
           {
            "colorbar": {
             "outlinewidth": 0,
             "ticks": ""
            },
            "colorscale": [
             [
              0,
              "#0d0887"
             ],
             [
              0.1111111111111111,
              "#46039f"
             ],
             [
              0.2222222222222222,
              "#7201a8"
             ],
             [
              0.3333333333333333,
              "#9c179e"
             ],
             [
              0.4444444444444444,
              "#bd3786"
             ],
             [
              0.5555555555555556,
              "#d8576b"
             ],
             [
              0.6666666666666666,
              "#ed7953"
             ],
             [
              0.7777777777777778,
              "#fb9f3a"
             ],
             [
              0.8888888888888888,
              "#fdca26"
             ],
             [
              1,
              "#f0f921"
             ]
            ],
            "type": "histogram2dcontour"
           }
          ],
          "mesh3d": [
           {
            "colorbar": {
             "outlinewidth": 0,
             "ticks": ""
            },
            "type": "mesh3d"
           }
          ],
          "parcoords": [
           {
            "line": {
             "colorbar": {
              "outlinewidth": 0,
              "ticks": ""
             }
            },
            "type": "parcoords"
           }
          ],
          "pie": [
           {
            "automargin": true,
            "type": "pie"
           }
          ],
          "scatter": [
           {
            "fillpattern": {
             "fillmode": "overlay",
             "size": 10,
             "solidity": 0.2
            },
            "type": "scatter"
           }
          ],
          "scatter3d": [
           {
            "line": {
             "colorbar": {
              "outlinewidth": 0,
              "ticks": ""
             }
            },
            "marker": {
             "colorbar": {
              "outlinewidth": 0,
              "ticks": ""
             }
            },
            "type": "scatter3d"
           }
          ],
          "scattercarpet": [
           {
            "marker": {
             "colorbar": {
              "outlinewidth": 0,
              "ticks": ""
             }
            },
            "type": "scattercarpet"
           }
          ],
          "scattergeo": [
           {
            "marker": {
             "colorbar": {
              "outlinewidth": 0,
              "ticks": ""
             }
            },
            "type": "scattergeo"
           }
          ],
          "scattergl": [
           {
            "marker": {
             "colorbar": {
              "outlinewidth": 0,
              "ticks": ""
             }
            },
            "type": "scattergl"
           }
          ],
          "scattermapbox": [
           {
            "marker": {
             "colorbar": {
              "outlinewidth": 0,
              "ticks": ""
             }
            },
            "type": "scattermapbox"
           }
          ],
          "scatterpolar": [
           {
            "marker": {
             "colorbar": {
              "outlinewidth": 0,
              "ticks": ""
             }
            },
            "type": "scatterpolar"
           }
          ],
          "scatterpolargl": [
           {
            "marker": {
             "colorbar": {
              "outlinewidth": 0,
              "ticks": ""
             }
            },
            "type": "scatterpolargl"
           }
          ],
          "scatterternary": [
           {
            "marker": {
             "colorbar": {
              "outlinewidth": 0,
              "ticks": ""
             }
            },
            "type": "scatterternary"
           }
          ],
          "surface": [
           {
            "colorbar": {
             "outlinewidth": 0,
             "ticks": ""
            },
            "colorscale": [
             [
              0,
              "#0d0887"
             ],
             [
              0.1111111111111111,
              "#46039f"
             ],
             [
              0.2222222222222222,
              "#7201a8"
             ],
             [
              0.3333333333333333,
              "#9c179e"
             ],
             [
              0.4444444444444444,
              "#bd3786"
             ],
             [
              0.5555555555555556,
              "#d8576b"
             ],
             [
              0.6666666666666666,
              "#ed7953"
             ],
             [
              0.7777777777777778,
              "#fb9f3a"
             ],
             [
              0.8888888888888888,
              "#fdca26"
             ],
             [
              1,
              "#f0f921"
             ]
            ],
            "type": "surface"
           }
          ],
          "table": [
           {
            "cells": {
             "fill": {
              "color": "#EBF0F8"
             },
             "line": {
              "color": "white"
             }
            },
            "header": {
             "fill": {
              "color": "#C8D4E3"
             },
             "line": {
              "color": "white"
             }
            },
            "type": "table"
           }
          ]
         },
         "layout": {
          "annotationdefaults": {
           "arrowcolor": "#2a3f5f",
           "arrowhead": 0,
           "arrowwidth": 1
          },
          "autotypenumbers": "strict",
          "coloraxis": {
           "colorbar": {
            "outlinewidth": 0,
            "ticks": ""
           }
          },
          "colorscale": {
           "diverging": [
            [
             0,
             "#8e0152"
            ],
            [
             0.1,
             "#c51b7d"
            ],
            [
             0.2,
             "#de77ae"
            ],
            [
             0.3,
             "#f1b6da"
            ],
            [
             0.4,
             "#fde0ef"
            ],
            [
             0.5,
             "#f7f7f7"
            ],
            [
             0.6,
             "#e6f5d0"
            ],
            [
             0.7,
             "#b8e186"
            ],
            [
             0.8,
             "#7fbc41"
            ],
            [
             0.9,
             "#4d9221"
            ],
            [
             1,
             "#276419"
            ]
           ],
           "sequential": [
            [
             0,
             "#0d0887"
            ],
            [
             0.1111111111111111,
             "#46039f"
            ],
            [
             0.2222222222222222,
             "#7201a8"
            ],
            [
             0.3333333333333333,
             "#9c179e"
            ],
            [
             0.4444444444444444,
             "#bd3786"
            ],
            [
             0.5555555555555556,
             "#d8576b"
            ],
            [
             0.6666666666666666,
             "#ed7953"
            ],
            [
             0.7777777777777778,
             "#fb9f3a"
            ],
            [
             0.8888888888888888,
             "#fdca26"
            ],
            [
             1,
             "#f0f921"
            ]
           ],
           "sequentialminus": [
            [
             0,
             "#0d0887"
            ],
            [
             0.1111111111111111,
             "#46039f"
            ],
            [
             0.2222222222222222,
             "#7201a8"
            ],
            [
             0.3333333333333333,
             "#9c179e"
            ],
            [
             0.4444444444444444,
             "#bd3786"
            ],
            [
             0.5555555555555556,
             "#d8576b"
            ],
            [
             0.6666666666666666,
             "#ed7953"
            ],
            [
             0.7777777777777778,
             "#fb9f3a"
            ],
            [
             0.8888888888888888,
             "#fdca26"
            ],
            [
             1,
             "#f0f921"
            ]
           ]
          },
          "colorway": [
           "#636efa",
           "#EF553B",
           "#00cc96",
           "#ab63fa",
           "#FFA15A",
           "#19d3f3",
           "#FF6692",
           "#B6E880",
           "#FF97FF",
           "#FECB52"
          ],
          "font": {
           "color": "#2a3f5f"
          },
          "geo": {
           "bgcolor": "white",
           "lakecolor": "white",
           "landcolor": "#E5ECF6",
           "showlakes": true,
           "showland": true,
           "subunitcolor": "white"
          },
          "hoverlabel": {
           "align": "left"
          },
          "hovermode": "closest",
          "mapbox": {
           "style": "light"
          },
          "paper_bgcolor": "white",
          "plot_bgcolor": "#E5ECF6",
          "polar": {
           "angularaxis": {
            "gridcolor": "white",
            "linecolor": "white",
            "ticks": ""
           },
           "bgcolor": "#E5ECF6",
           "radialaxis": {
            "gridcolor": "white",
            "linecolor": "white",
            "ticks": ""
           }
          },
          "scene": {
           "xaxis": {
            "backgroundcolor": "#E5ECF6",
            "gridcolor": "white",
            "gridwidth": 2,
            "linecolor": "white",
            "showbackground": true,
            "ticks": "",
            "zerolinecolor": "white"
           },
           "yaxis": {
            "backgroundcolor": "#E5ECF6",
            "gridcolor": "white",
            "gridwidth": 2,
            "linecolor": "white",
            "showbackground": true,
            "ticks": "",
            "zerolinecolor": "white"
           },
           "zaxis": {
            "backgroundcolor": "#E5ECF6",
            "gridcolor": "white",
            "gridwidth": 2,
            "linecolor": "white",
            "showbackground": true,
            "ticks": "",
            "zerolinecolor": "white"
           }
          },
          "shapedefaults": {
           "line": {
            "color": "#2a3f5f"
           }
          },
          "ternary": {
           "aaxis": {
            "gridcolor": "white",
            "linecolor": "white",
            "ticks": ""
           },
           "baxis": {
            "gridcolor": "white",
            "linecolor": "white",
            "ticks": ""
           },
           "bgcolor": "#E5ECF6",
           "caxis": {
            "gridcolor": "white",
            "linecolor": "white",
            "ticks": ""
           }
          },
          "title": {
           "x": 0.05
          },
          "xaxis": {
           "automargin": true,
           "gridcolor": "white",
           "linecolor": "white",
           "ticks": "",
           "title": {
            "standoff": 15
           },
           "zerolinecolor": "white",
           "zerolinewidth": 2
          },
          "yaxis": {
           "automargin": true,
           "gridcolor": "white",
           "linecolor": "white",
           "ticks": "",
           "title": {
            "standoff": 15
           },
           "zerolinecolor": "white",
           "zerolinewidth": 2
          }
         }
        },
        "xaxis": {
         "anchor": "y",
         "domain": [
          0,
          1
         ],
         "title": {
          "text": "data"
         }
        },
        "yaxis": {
         "anchor": "x",
         "domain": [
          0,
          1
         ],
         "title": {
          "text": "value"
         }
        }
       }
      }
     },
     "metadata": {},
     "output_type": "display_data"
    }
   ],
   "source": [
    "fig = px.line(qt_pgt_dia_df[['data','taxa_teste','taxa_controle']], \n",
    "              x = 'data', \n",
    "              y = qt_pgt_dia_df[['data','taxa_teste','taxa_controle']].columns)\n",
    "fig.show()"
   ]
  },
  {
   "cell_type": "code",
   "execution_count": 82,
   "metadata": {},
   "outputs": [
    {
     "data": {
      "text/html": [
       "<div>\n",
       "<style scoped>\n",
       "    .dataframe tbody tr th:only-of-type {\n",
       "        vertical-align: middle;\n",
       "    }\n",
       "\n",
       "    .dataframe tbody tr th {\n",
       "        vertical-align: top;\n",
       "    }\n",
       "\n",
       "    .dataframe thead th {\n",
       "        text-align: right;\n",
       "    }\n",
       "</style>\n",
       "<table border=\"1\" class=\"dataframe\">\n",
       "  <thead>\n",
       "    <tr style=\"text-align: right;\">\n",
       "      <th></th>\n",
       "      <th>data</th>\n",
       "      <th>qt_pgt_em_dia_teste</th>\n",
       "      <th>qt_vencidas_teste</th>\n",
       "      <th>taxa_teste</th>\n",
       "      <th>qt_pgt_em_dia_controle</th>\n",
       "      <th>qte_vencidas_controle</th>\n",
       "      <th>taxa_controle</th>\n",
       "    </tr>\n",
       "  </thead>\n",
       "  <tbody>\n",
       "    <tr>\n",
       "      <th>0</th>\n",
       "      <td>2023-11-08</td>\n",
       "      <td>0</td>\n",
       "      <td>0</td>\n",
       "      <td>NaN</td>\n",
       "      <td>0</td>\n",
       "      <td>0</td>\n",
       "      <td>NaN</td>\n",
       "    </tr>\n",
       "    <tr>\n",
       "      <th>1</th>\n",
       "      <td>2023-11-09</td>\n",
       "      <td>0</td>\n",
       "      <td>0</td>\n",
       "      <td>NaN</td>\n",
       "      <td>0</td>\n",
       "      <td>0</td>\n",
       "      <td>NaN</td>\n",
       "    </tr>\n",
       "    <tr>\n",
       "      <th>2</th>\n",
       "      <td>2023-11-10</td>\n",
       "      <td>0</td>\n",
       "      <td>0</td>\n",
       "      <td>NaN</td>\n",
       "      <td>0</td>\n",
       "      <td>0</td>\n",
       "      <td>NaN</td>\n",
       "    </tr>\n",
       "    <tr>\n",
       "      <th>3</th>\n",
       "      <td>2023-11-11</td>\n",
       "      <td>0</td>\n",
       "      <td>0</td>\n",
       "      <td>NaN</td>\n",
       "      <td>0</td>\n",
       "      <td>0</td>\n",
       "      <td>NaN</td>\n",
       "    </tr>\n",
       "    <tr>\n",
       "      <th>4</th>\n",
       "      <td>2023-11-12</td>\n",
       "      <td>0</td>\n",
       "      <td>0</td>\n",
       "      <td>NaN</td>\n",
       "      <td>0</td>\n",
       "      <td>0</td>\n",
       "      <td>NaN</td>\n",
       "    </tr>\n",
       "    <tr>\n",
       "      <th>...</th>\n",
       "      <td>...</td>\n",
       "      <td>...</td>\n",
       "      <td>...</td>\n",
       "      <td>...</td>\n",
       "      <td>...</td>\n",
       "      <td>...</td>\n",
       "      <td>...</td>\n",
       "    </tr>\n",
       "    <tr>\n",
       "      <th>56</th>\n",
       "      <td>2024-01-03</td>\n",
       "      <td>53</td>\n",
       "      <td>218</td>\n",
       "      <td>0.243</td>\n",
       "      <td>61</td>\n",
       "      <td>184</td>\n",
       "      <td>0.332</td>\n",
       "    </tr>\n",
       "    <tr>\n",
       "      <th>57</th>\n",
       "      <td>2024-01-04</td>\n",
       "      <td>56</td>\n",
       "      <td>224</td>\n",
       "      <td>0.250</td>\n",
       "      <td>63</td>\n",
       "      <td>192</td>\n",
       "      <td>0.328</td>\n",
       "    </tr>\n",
       "    <tr>\n",
       "      <th>58</th>\n",
       "      <td>2024-01-05</td>\n",
       "      <td>57</td>\n",
       "      <td>226</td>\n",
       "      <td>0.252</td>\n",
       "      <td>67</td>\n",
       "      <td>199</td>\n",
       "      <td>0.337</td>\n",
       "    </tr>\n",
       "    <tr>\n",
       "      <th>59</th>\n",
       "      <td>2024-01-06</td>\n",
       "      <td>73</td>\n",
       "      <td>266</td>\n",
       "      <td>0.274</td>\n",
       "      <td>69</td>\n",
       "      <td>206</td>\n",
       "      <td>0.335</td>\n",
       "    </tr>\n",
       "    <tr>\n",
       "      <th>60</th>\n",
       "      <td>2024-01-07</td>\n",
       "      <td>73</td>\n",
       "      <td>266</td>\n",
       "      <td>0.274</td>\n",
       "      <td>69</td>\n",
       "      <td>219</td>\n",
       "      <td>0.315</td>\n",
       "    </tr>\n",
       "  </tbody>\n",
       "</table>\n",
       "<p>61 rows × 7 columns</p>\n",
       "</div>"
      ],
      "text/plain": [
       "         data  qt_pgt_em_dia_teste  qt_vencidas_teste  taxa_teste  \\\n",
       "0  2023-11-08                    0                  0         NaN   \n",
       "1  2023-11-09                    0                  0         NaN   \n",
       "2  2023-11-10                    0                  0         NaN   \n",
       "3  2023-11-11                    0                  0         NaN   \n",
       "4  2023-11-12                    0                  0         NaN   \n",
       "..        ...                  ...                ...         ...   \n",
       "56 2024-01-03                   53                218       0.243   \n",
       "57 2024-01-04                   56                224       0.250   \n",
       "58 2024-01-05                   57                226       0.252   \n",
       "59 2024-01-06                   73                266       0.274   \n",
       "60 2024-01-07                   73                266       0.274   \n",
       "\n",
       "    qt_pgt_em_dia_controle  qte_vencidas_controle  taxa_controle  \n",
       "0                        0                      0            NaN  \n",
       "1                        0                      0            NaN  \n",
       "2                        0                      0            NaN  \n",
       "3                        0                      0            NaN  \n",
       "4                        0                      0            NaN  \n",
       "..                     ...                    ...            ...  \n",
       "56                      61                    184          0.332  \n",
       "57                      63                    192          0.328  \n",
       "58                      67                    199          0.337  \n",
       "59                      69                    206          0.335  \n",
       "60                      69                    219          0.315  \n",
       "\n",
       "[61 rows x 7 columns]"
      ]
     },
     "execution_count": 82,
     "metadata": {},
     "output_type": "execute_result"
    }
   ],
   "source": [
    "qt_pgt_dia_df"
   ]
  },
  {
   "cell_type": "markdown",
   "metadata": {},
   "source": [
    "## Frequencia e Severidade"
   ]
  },
  {
   "cell_type": "code",
   "execution_count": 83,
   "metadata": {},
   "outputs": [],
   "source": [
    "def get_frequencia(df, janela_inicio, janela_fim,n,tipo=['teste','controle']):\n",
    "    cond0 = df['data_envio'] >= janela_inicio\n",
    "    cond1 = df['data_envio'] <= janela_fim\n",
    "    cond2 = df['data_vencimento'] <= janela_fim\n",
    "    cond3 = df['tipo'].isin(tipo)\n",
    "    cond = ((cond0 & cond1) & cond2) & cond3\n",
    "\n",
    "    cob_interesse = data_raw.loc[cond,:].copy()\n",
    "    cob_interesse['pagamento_em_dia'] = cob_interesse['diff_pagamento_vencimento'].apply(check_pagamento_em_dia)\n",
    "\n",
    "    grouped = cob_interesse[['numero_instalacao','tipo','pagamento_em_dia']].groupby(by=['numero_instalacao','tipo'], as_index= False)\n",
    "    df = grouped.agg(lambda x: list(x)[-n:])\n",
    "    df['frequencia'] = df['pagamento_em_dia'].apply(lambda x: 1 - (sum(x)/len(x)))\n",
    "    return df\n"
   ]
  },
  {
   "cell_type": "code",
   "execution_count": 84,
   "metadata": {},
   "outputs": [],
   "source": [
    "def get_corrected_diff(x, data_ref):\n",
    "    data_vencimento, status,  diff = x\n",
    "    if status == 'waitingPayment':\n",
    "        result = np.datetime64(data_ref) - data_vencimento\n",
    "        result = result.days\n",
    "    else:\n",
    "        result = diff    \n",
    "    return result\n",
    "\n",
    "def get_severidade(df, janela_inicio, janela_fim,n,tipo=['teste','controle']):\n",
    "    cond0 = df['data_envio'] >= janela_inicio\n",
    "    cond1 = df['data_envio'] <= janela_fim\n",
    "    cond2 = df['data_vencimento'] <= janela_fim\n",
    "    cond3 = df['tipo'].isin(tipo)\n",
    "    cond = ((cond0 & cond1) & cond2) & cond3\n",
    "\n",
    "    cob_interesse = data_raw.loc[cond,:].copy()\n",
    "    cob_interesse['pagamento_em_dia'] = cob_interesse['diff_pagamento_vencimento'].apply(check_pagamento_em_dia)\n",
    "    cob_interesse['corrected_diff'] = cob_interesse[['data_vencimento',\n",
    "                                                     'status',\n",
    "                                                     'diff_pagamento_vencimento']].apply(get_corrected_diff, data_ref=janela_fim, axis=1)\n",
    "\n",
    "    grouped = cob_interesse[['numero_instalacao','tipo','corrected_diff']].groupby(by=['numero_instalacao','tipo'], as_index= False)\n",
    "    df = grouped.agg(lambda x: list(x)[-n:])\n",
    "    df['severidade'] = df['corrected_diff'].apply(lambda x: np.mean(x))\n",
    "    return df"
   ]
  },
  {
   "cell_type": "markdown",
   "metadata": {},
   "source": [
    "### Frequência pré conta única vs. frequência pós conta única:\n"
   ]
  },
  {
   "cell_type": "code",
   "execution_count": 85,
   "metadata": {},
   "outputs": [
    {
     "data": {
      "text/html": [
       "<div>\n",
       "<style scoped>\n",
       "    .dataframe tbody tr th:only-of-type {\n",
       "        vertical-align: middle;\n",
       "    }\n",
       "\n",
       "    .dataframe tbody tr th {\n",
       "        vertical-align: top;\n",
       "    }\n",
       "\n",
       "    .dataframe thead th {\n",
       "        text-align: right;\n",
       "    }\n",
       "</style>\n",
       "<table border=\"1\" class=\"dataframe\">\n",
       "  <thead>\n",
       "    <tr style=\"text-align: right;\">\n",
       "      <th></th>\n",
       "      <th>frequencia</th>\n",
       "    </tr>\n",
       "    <tr>\n",
       "      <th>tipo</th>\n",
       "      <th></th>\n",
       "    </tr>\n",
       "  </thead>\n",
       "  <tbody>\n",
       "    <tr>\n",
       "      <th>controle</th>\n",
       "      <td>0.725</td>\n",
       "    </tr>\n",
       "    <tr>\n",
       "      <th>teste</th>\n",
       "      <td>0.748</td>\n",
       "    </tr>\n",
       "  </tbody>\n",
       "</table>\n",
       "</div>"
      ],
      "text/plain": [
       "          frequencia\n",
       "tipo                \n",
       "controle       0.725\n",
       "teste          0.748"
      ]
     },
     "execution_count": 85,
     "metadata": {},
     "output_type": "execute_result"
    }
   ],
   "source": [
    "frequencia_pre_df = get_frequencia(df = data_raw, \n",
    "                                   janela_inicio = '20222-01-01',\n",
    "                                   janela_fim = data_inicio_teste,\n",
    "                                   n = 3)\n",
    "\n",
    "grouped  = frequencia_pre_df[['tipo','frequencia']].groupby(by='tipo')\n",
    "grouped.mean()"
   ]
  },
  {
   "cell_type": "code",
   "execution_count": 86,
   "metadata": {},
   "outputs": [
    {
     "data": {
      "text/html": [
       "<div>\n",
       "<style scoped>\n",
       "    .dataframe tbody tr th:only-of-type {\n",
       "        vertical-align: middle;\n",
       "    }\n",
       "\n",
       "    .dataframe tbody tr th {\n",
       "        vertical-align: top;\n",
       "    }\n",
       "\n",
       "    .dataframe thead th {\n",
       "        text-align: right;\n",
       "    }\n",
       "</style>\n",
       "<table border=\"1\" class=\"dataframe\">\n",
       "  <thead>\n",
       "    <tr style=\"text-align: right;\">\n",
       "      <th></th>\n",
       "      <th>frequencia</th>\n",
       "    </tr>\n",
       "    <tr>\n",
       "      <th>tipo</th>\n",
       "      <th></th>\n",
       "    </tr>\n",
       "  </thead>\n",
       "  <tbody>\n",
       "    <tr>\n",
       "      <th>controle</th>\n",
       "      <td>0.696</td>\n",
       "    </tr>\n",
       "    <tr>\n",
       "      <th>teste</th>\n",
       "      <td>0.726</td>\n",
       "    </tr>\n",
       "  </tbody>\n",
       "</table>\n",
       "</div>"
      ],
      "text/plain": [
       "          frequencia\n",
       "tipo                \n",
       "controle       0.696\n",
       "teste          0.726"
      ]
     },
     "execution_count": 86,
     "metadata": {},
     "output_type": "execute_result"
    }
   ],
   "source": [
    "frequencia_pos_df = get_frequencia(df = data_raw, \n",
    "                                   janela_inicio = data_inicio_teste,\n",
    "                                   janela_fim = datetime.strftime(current_date,'%Y-%m-%d'),\n",
    "                                   n = 4)\n",
    "\n",
    "frequencia_pos_df\n",
    "grouped  = frequencia_pos_df[['tipo','frequencia']].groupby(by='tipo')\n",
    "grouped.mean()"
   ]
  },
  {
   "cell_type": "markdown",
   "metadata": {},
   "source": [
    "### Severidade pré vs severidade pós conta única "
   ]
  },
  {
   "cell_type": "code",
   "execution_count": 87,
   "metadata": {},
   "outputs": [
    {
     "data": {
      "text/html": [
       "<div>\n",
       "<style scoped>\n",
       "    .dataframe tbody tr th:only-of-type {\n",
       "        vertical-align: middle;\n",
       "    }\n",
       "\n",
       "    .dataframe tbody tr th {\n",
       "        vertical-align: top;\n",
       "    }\n",
       "\n",
       "    .dataframe thead th {\n",
       "        text-align: right;\n",
       "    }\n",
       "</style>\n",
       "<table border=\"1\" class=\"dataframe\">\n",
       "  <thead>\n",
       "    <tr style=\"text-align: right;\">\n",
       "      <th></th>\n",
       "      <th>severidade</th>\n",
       "    </tr>\n",
       "    <tr>\n",
       "      <th>tipo</th>\n",
       "      <th></th>\n",
       "    </tr>\n",
       "  </thead>\n",
       "  <tbody>\n",
       "    <tr>\n",
       "      <th>controle</th>\n",
       "      <td>7.530</td>\n",
       "    </tr>\n",
       "    <tr>\n",
       "      <th>teste</th>\n",
       "      <td>6.805</td>\n",
       "    </tr>\n",
       "  </tbody>\n",
       "</table>\n",
       "</div>"
      ],
      "text/plain": [
       "          severidade\n",
       "tipo                \n",
       "controle       7.530\n",
       "teste          6.805"
      ]
     },
     "execution_count": 87,
     "metadata": {},
     "output_type": "execute_result"
    }
   ],
   "source": [
    "severidade_pre_df = get_severidade(df = data_raw, \n",
    "                                   janela_inicio = '20222-01-01',\n",
    "                                   janela_fim = data_inicio_teste,\n",
    "                                   n = 3)\n",
    "\n",
    "grouped  = severidade_pre_df[['tipo','severidade']].groupby(by='tipo')\n",
    "grouped.mean()"
   ]
  },
  {
   "cell_type": "code",
   "execution_count": 88,
   "metadata": {},
   "outputs": [
    {
     "data": {
      "text/html": [
       "<div>\n",
       "<style scoped>\n",
       "    .dataframe tbody tr th:only-of-type {\n",
       "        vertical-align: middle;\n",
       "    }\n",
       "\n",
       "    .dataframe tbody tr th {\n",
       "        vertical-align: top;\n",
       "    }\n",
       "\n",
       "    .dataframe thead th {\n",
       "        text-align: right;\n",
       "    }\n",
       "</style>\n",
       "<table border=\"1\" class=\"dataframe\">\n",
       "  <thead>\n",
       "    <tr style=\"text-align: right;\">\n",
       "      <th></th>\n",
       "      <th>severidade</th>\n",
       "    </tr>\n",
       "    <tr>\n",
       "      <th>tipo</th>\n",
       "      <th></th>\n",
       "    </tr>\n",
       "  </thead>\n",
       "  <tbody>\n",
       "    <tr>\n",
       "      <th>controle</th>\n",
       "      <td>6.859</td>\n",
       "    </tr>\n",
       "    <tr>\n",
       "      <th>teste</th>\n",
       "      <td>6.110</td>\n",
       "    </tr>\n",
       "  </tbody>\n",
       "</table>\n",
       "</div>"
      ],
      "text/plain": [
       "          severidade\n",
       "tipo                \n",
       "controle       6.859\n",
       "teste          6.110"
      ]
     },
     "execution_count": 88,
     "metadata": {},
     "output_type": "execute_result"
    }
   ],
   "source": [
    "severidade_pos_df = get_severidade(df = data_raw, \n",
    "                                   janela_inicio = data_inicio_teste,\n",
    "                                   janela_fim = datetime.strftime(current_date,'%Y-%m-%d'),\n",
    "                                   n = 4)\n",
    "\n",
    "grouped  = severidade_pos_df[['tipo','severidade']].groupby(by='tipo')\n",
    "grouped.mean()"
   ]
  }
 ],
 "metadata": {
  "kernelspec": {
   "display_name": "base",
   "language": "python",
   "name": "python3"
  },
  "language_info": {
   "codemirror_mode": {
    "name": "ipython",
    "version": 3
   },
   "file_extension": ".py",
   "mimetype": "text/x-python",
   "name": "python",
   "nbconvert_exporter": "python",
   "pygments_lexer": "ipython3",
   "version": "3.11.4"
  }
 },
 "nbformat": 4,
 "nbformat_minor": 2
}
